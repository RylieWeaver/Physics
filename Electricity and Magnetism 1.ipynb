{
  "nbformat": 4,
  "nbformat_minor": 0,
  "metadata": {
    "colab": {
      "provenance": [],
      "authorship_tag": "ABX9TyMXe6zXB3KsL6zttCzXNc58",
      "include_colab_link": true
    },
    "kernelspec": {
      "name": "python3",
      "display_name": "Python 3"
    },
    "language_info": {
      "name": "python"
    }
  },
  "cells": [
    {
      "cell_type": "markdown",
      "metadata": {
        "id": "view-in-github",
        "colab_type": "text"
      },
      "source": [
        "<a href=\"https://colab.research.google.com/github/RylieWeaver9/Physics/blob/main/Electricity%20and%20Magnetism%201.ipynb\" target=\"_parent\"><img src=\"https://colab.research.google.com/assets/colab-badge.svg\" alt=\"Open In Colab\"/></a>"
      ]
    },
    {
      "cell_type": "code",
      "metadata": {
        "id": "HNQ1Yt-_9PcQ",
        "colab": {
          "base_uri": "https://localhost:8080/",
          "height": 279
        },
        "outputId": "778f4836-9e40-4db4-9948-1ddb3685ba19"
      },
      "source": [
        "from math import *\n",
        "from pylab import *\n",
        "from scipy.integrate import quad #.integrate import *\n",
        "\n",
        "def intgrnd2(u, v):\n",
        "    return v*cos(3*pi*u)/((u**2+v**2)**1.5)\n",
        "\n",
        "def intgrl2(v): # make the parameter a variable\n",
        "    return quad(intgrnd2, -0.5, 0.5, args=(v))\n",
        "\n",
        "vec_intgrl2 = vectorize(intgrl2)\n",
        "\n",
        "vlist = linspace(0.3, 5, 1000)\n",
        "results, errs = vec_intgrl2(vlist)\n",
        "\n",
        "figure() # opens a new figure\n",
        "plot(vlist, results)\n",
        "xlabel('v')\n",
        "ylabel('integral/constants')\n",
        "show()"
      ],
      "execution_count": null,
      "outputs": [
        {
          "output_type": "display_data",
          "data": {
            "image/png": "[encoded data removed]",
            "text/plain": [
              "<Figure size 432x288 with 1 Axes>"
            ]
          },
          "metadata": {
            "needs_background": "light"
          }
        }
      ]
    }
  ]
}