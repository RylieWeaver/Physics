{
  "nbformat": 4,
  "nbformat_minor": 0,
  "metadata": {
    "colab": {
      "provenance": [],
      "authorship_tag": "ABX9TyOROUC87AbI4jsjBhc5aB8L",
      "include_colab_link": true
    },
    "kernelspec": {
      "name": "python3",
      "display_name": "Python 3"
    },
    "language_info": {
      "name": "python"
    }
  },
  "cells": [
    {
      "cell_type": "markdown",
      "metadata": {
        "id": "view-in-github",
        "colab_type": "text"
      },
      "source": [
        "<a href=\"https://colab.research.google.com/github/RylieWeaver9/Physics/blob/main/Electricity%20and%20Magnetism%203.ipynb\" target=\"_parent\"><img src=\"https://colab.research.google.com/assets/colab-badge.svg\" alt=\"Open In Colab\"/></a>"
      ]
    },
    {
      "cell_type": "code",
      "metadata": {
        "colab": {
          "base_uri": "https://localhost:8080/",
          "height": 295
        },
        "id": "qV_9FK599HGa",
        "outputId": "d8659004-552f-49e8-8409-788010eebe5c"
      },
      "source": [
        "from numpy import * #includes the zeros function\n",
        "from pylab import *\n",
        "\n",
        "NX = 60\n",
        "NY = 40\n",
        "maxdiff = 1e-6\n",
        "diff = 1.0 # must start bigger than 'maxdiff'\n",
        "V = zeros((NY,NX),float) # fill 'V' with zeros\n",
        "E = zeros((NY,NX),float) # fill 'V' with zeros\n",
        "\n",
        "# Enter the boundary conditions for 'V' other than 0\n",
        "for i in arange(0,NY,1): # j from 0 to NY-1\n",
        "    V[i,NX-1] = 10\n",
        "    V[i, 0] = 10\n",
        "\n",
        "while diff > maxdiff: # repeat until 'diff' is small\n",
        "    diff = 0.0 # reset for each iteration\n",
        "    # Loop over all of the interior points\n",
        "    for i in arange(1,NY-1,1): # i from 1 to NY-2\n",
        "        for j in arange(1,NX-1,1): # j from 1 to NX-2\n",
        "            newVij = (V[i-1,j]+V[i+1,j]\n",
        "                      +V[i,j-1]+V[i,j+1])/4.0\n",
        "            lastdiff = abs(newVij-V[i,j])\n",
        "            if lastdiff > diff:\n",
        "                diff = lastdiff\n",
        "            V[i,j] = newVij\n",
        "\n",
        "xlist = linspace(0.0,6.0,NX)\n",
        "ylist = linspace(0,4.0,NY)\n",
        "X,Y = meshgrid(xlist,ylist)\n",
        "levels = linspace(0.0, 10.0, 11)\n",
        "\n",
        "figure()\n",
        "CP = contourf(X,Y,V,levels)\n",
        "colorbar(CP)\n",
        "xlabel('x (cm)')\n",
        "ylabel('y (cm)')\n",
        "title('Potential (V)')\n",
        "show()"
      ],
      "execution_count": null,
      "outputs": [
        {
          "output_type": "display_data",
          "data": {
            "image/png": "[encoded data removed]",
            "text/plain": [
              "<Figure size 432x288 with 2 Axes>"
            ]
          },
          "metadata": {
            "needs_background": "light"
          }
        }
      ]
    }
  ]
}