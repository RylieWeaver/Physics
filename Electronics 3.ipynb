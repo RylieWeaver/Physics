{
  "nbformat": 4,
  "nbformat_minor": 0,
  "metadata": {
    "colab": {
      "provenance": [],
      "authorship_tag": "ABX9TyNNZSx9SMjMp0sMkRIXCNI+",
      "include_colab_link": true
    },
    "kernelspec": {
      "name": "python3",
      "display_name": "Python 3"
    }
  },
  "cells": [
    {
      "cell_type": "markdown",
      "metadata": {
        "id": "view-in-github",
        "colab_type": "text"
      },
      "source": [
        "<a href=\"https://colab.research.google.com/github/RylieWeaver9/Physics/blob/main/Electronics%203.ipynb\" target=\"_parent\"><img src=\"https://colab.research.google.com/assets/colab-badge.svg\" alt=\"Open In Colab\"/></a>"
      ]
    },
    {
      "cell_type": "markdown",
      "metadata": {
        "id": "wnx4C8piAqdK"
      },
      "source": [
        "#**Lab 4**\n",
        "\n",
        "*   Rylie Weaver with lab partner Ezequiel Dueno"
      ]
    },
    {
      "cell_type": "markdown",
      "metadata": {
        "id": "GltlYDU6Ar8D"
      },
      "source": [
        "# **3-1**"
      ]
    },
    {
      "cell_type": "markdown",
      "metadata": {
        "id": "XA2pCwNOYYgM"
      },
      "source": [
        "**Measurements:**\n",
        "\n",
        "$Resistor: 9.885 k\\Omega$\n",
        "\n",
        "$Capacitor: 9.903 nF$"
      ]
    },
    {
      "cell_type": "markdown",
      "metadata": {
        "id": "FaLMhrZUAr_S"
      },
      "source": [
        "**A.** Circuit constructed.\n",
        "\n",
        "**Question**\n",
        "\n",
        "**B.** \n",
        "\n",
        "Frequency = 1.079 kHz:\n",
        "\n",
        "*   V(out) = 880mV\n",
        "*   V(in) = 1.08V\n",
        "*   V(out)/V(in) = 0.8148\n",
        "*   Δt = 100ns\n",
        "\n",
        "**C.**\n",
        "\n",
        "Frequency = 9.944Hz\n",
        "\n",
        "*   V(out) = 992mV\n",
        "*   V(in) = 1.01V\n",
        "*   V(out)/V(in) = 0.9822\n",
        "*   Δt = 0s\n",
        "\n",
        "Frequency = 101.31Hz\n",
        "\n",
        "*   V(out) = 1.04V\n",
        "*   V(in) = 1.06V\n",
        "*   V(out)/V(in) = 0.9811 \n",
        "*   Δt = 0s\n",
        "\n",
        "Frequency = 9.930kHz\n",
        "\n",
        "*   V(out) = 162mV\n",
        "*   V(in) = 1.06V\n",
        "*   V(out)/V(in) = 0.1528\n",
        "*   Δt = 24$\\mu$s\n",
        "\n",
        "Frequency = 100.51 kHz\n",
        "\n",
        "*   V(out) = 56mV\n",
        "*   V(in) = 3.20V\n",
        "*   V(out)/V(in) = 0.0175\n",
        "*   Δt = 2.4$\\mu$s\n",
        "\n",
        "Frequency = 1MHz\n",
        "\n",
        "*   V(out) = 11.2mV\n",
        "*   V(in) = 7.04V\n",
        "*   V(out)/V(in) = 0.00159\n",
        "*   Δt = 280ns\n",
        "\n",
        "**D.** The gain and phase angle change the fastest in between 1 kHz and 10 kHz\n",
        "\n",
        "Frequency = 4.32kHz\n",
        "\n",
        "*   V(out) = 800mV\n",
        "*   V(in) = 2.02V\n",
        "*   V(out)/V(in) = 0.396 \n",
        "*   Δt = 44$\\mu$s\n",
        "\n",
        "Frequency = 7.038kHz\n",
        "\n",
        "*   V(out) = 520mV\n",
        "*   V(in) = 2.12V\n",
        "*   V(out)/V(in) = 0.2453\n",
        "*   Δt = 30$\\mu$s\n",
        "\n",
        "**E.** Made Below. The gain and frequency have both been recorded to put into the plot. In order to find the theoretical curve, we use Gain = V(out)/V(in) and the impedences of the components.\n",
        "\n",
        "**F.** Made Below\n",
        "\n",
        "**G.** Done\n",
        "\n",
        "**Question:** The measurements match very, very well with the theoretical curve. There are no outliers.\n",
        "\n"
      ]
    },
    {
      "cell_type": "code",
      "metadata": {
        "id": "zYv69PuCyICx",
        "colab": {
          "base_uri": "https://localhost:8080/",
          "height": 299
        },
        "outputId": "adfbcf29-9808-421c-9e8a-5078ad35f8c7"
      },
      "source": [
        "import numpy as np\n",
        "from matplotlib import pyplot as plt\n",
        "\n",
        "R = 10000\n",
        "L = 6.8/1000\n",
        "C = 0.01/1000000\n",
        "\n",
        "x = np.array([7038,4320,1000000,100510,9930,101.31,9.944,1079])\n",
        "y = np.array([0.2453,0.396,0.00159,0.0175,0.1528,0.9811,0.9822,0.8148])\n",
        "xsorted = np.sort(x)\n",
        "ZR = R\n",
        "ZL = 2*np.pi*1.0j*L*xsorted\n",
        "ZC = 1/(1.0j*xsorted*C*2*np.pi)\n",
        "Gain_theory = np.abs((ZC)/(ZR+ZC))\n",
        "\n",
        "plt.plot(x, y,marker=\"o\",linestyle = \"none\")\n",
        "plt.plot(xsorted, Gain_theory, '-')\n",
        "\n",
        "plt.xscale('log')\n",
        "plt.xlabel(\"Frequency\")\n",
        "plt.ylabel(\"Gain\")\n",
        "plt.title(\"Gain vs. Frequency Plot\")\n",
        "\n",
        "plt.show()"
      ],
      "execution_count": null,
      "outputs": [
        {
          "output_type": "display_data",
          "data": {
            "image/png": "[encoded data removed]",
            "text/plain": [
              "<Figure size 432x288 with 1 Axes>"
            ]
          },
          "metadata": {
            "tags": []
          }
        }
      ]
    },
    {
      "cell_type": "markdown",
      "metadata": {
        "id": "jKWab_fgAsCo"
      },
      "source": [
        "# **3-2**"
      ]
    },
    {
      "cell_type": "markdown",
      "metadata": {
        "id": "Q5QtvKd2YcEg"
      },
      "source": [
        "**Measurements:**\n",
        "\n",
        "$Resistor: 9.885 k\\Omega$\n",
        "\n",
        "$Capacitor: 9.903 nF$"
      ]
    },
    {
      "cell_type": "markdown",
      "metadata": {
        "id": "WXhJvVKqQ-HG"
      },
      "source": [
        "**A.** Circuit constructed.\n",
        "\n",
        "**Question**\n",
        "\n",
        "**B.** \n",
        "\n",
        "Frequency = 1.064 kHz\n",
        "\n",
        "*   V(out) = 1.16V\n",
        "*   V(in) = 2.04V\n",
        "*   V(out)/V(in) = 0.5686\n",
        "*   Δt =$\\mu$s\n",
        "\n",
        "**C.**\n",
        "\n",
        "Frequency = 10.305Hz\n",
        "\n",
        "*   V(out) = 17mV\n",
        "*   V(in) = 2.04V\n",
        "*   V(out)/V(in) = 0.008333\n",
        "*   Δt = 74ms\n",
        "\n",
        "Frequency = 100.62Hz\n",
        "\n",
        "*   V(out) = 128mV\n",
        "*   V(in) = 2.04V\n",
        "*   V(out)/V(in) = 0.06275 \n",
        "*   Δt = 7.6ms\n",
        "\n",
        "Frequency = 10.095kHz\n",
        "\n",
        "*   V(out) = 2.08V\n",
        "*   V(in) = 2.12V\n",
        "*   V(out)/V(in) = 0.98113\n",
        "*   Δt = 0s\n",
        "\n",
        "Frequency = 101.19kHz\n",
        "\n",
        "*   V(out) = 2.08V\n",
        "*   V(in) = 2.12V\n",
        "*   V(out)/V(in) = 0.98113\n",
        "*   Δt = 0s\n",
        "\n",
        "Frequency = 1.01MHz\n",
        "\n",
        "*   V(out) = 2.20V\n",
        "*   V(in) = 2.20V\n",
        "*   V(out)/V(in) = 1\n",
        "*   Δt = 0s\n",
        "\n",
        "**D.** The gain and phase angle change the fastest in between 100 Hz and 10 kHz\n",
        "\n",
        "Frequency = 170.3Hz\n",
        "\n",
        "*   V(out) = 212mV\n",
        "*   V(in) = 2.04V\n",
        "*   V(out)/V(in) = 0.1039\n",
        "*   Δt = 4.5ms\n",
        "\n",
        "Frequency = 502.07Hz\n",
        "\n",
        "*   V(out) = 592mV\n",
        "*   V(in) = 2.04V\n",
        "*   V(out)/V(in) = 0.2902\n",
        "*   Δt = 1.56ms\n",
        "\n",
        "Frequency = 3.06kHz\n",
        "\n",
        "*   V(out) = 1.88V\n",
        "*   V(in) = 2.12V\n",
        "*   V(out)/V(in) = 0.8868\n",
        "*   Δt = 300$\\mu$s\n",
        "\n",
        "Frequency = 7.294khz\n",
        "\n",
        "*   V(out) = 2.04\n",
        "*   V(in) = 2.12V\n",
        "*   V(out)/V(in) = 0.9623\n",
        "*   Δt = 132$\\mu$s\n",
        "\n",
        "**E.** Made Below. The gain and frequency have both been recorded to put into the plot. In order to find the theoretical curve, we use Gain = V(out)/V(in) and the impedences of the components.\n",
        "\n",
        "**F.** Made Below\n",
        "\n",
        "**Question.** The measurements match very, very well with the theoretical curve. There are no outliers."
      ]
    },
    {
      "cell_type": "code",
      "metadata": {
        "id": "tDf4TQsxvDuK",
        "colab": {
          "base_uri": "https://localhost:8080/",
          "height": 299
        },
        "outputId": "bff2f7fe-f715-4ec5-b249-a56255260f57"
      },
      "source": [
        "import numpy as np\n",
        "from matplotlib import pyplot as plt\n",
        "\n",
        "R = 10000\n",
        "L = 6.8/1000\n",
        "C = 0.01/1000000\n",
        "\n",
        "x = np.array([7294,3060,502.07,170.3,1010000,101190,10095,100.62,10.305,1064])\n",
        "y = np.array([0.9623,0.8868,0.2902,0.1039,1,0.98113,0.98113,0.06275,0.00833,0.5686])\n",
        "xsorted = np.sort(x)\n",
        "ZR = R\n",
        "ZL = 2*np.pi*1.0j*L*xsorted\n",
        "ZC = 1/(1.0j*xsorted*C*2*np.pi)\n",
        "Gain_theory = np.abs((ZR)/(ZR+ZC))\n",
        "\n",
        "plt.plot(x, y,marker=\"o\",linestyle = \"none\")\n",
        "plt.plot(xsorted, Gain_theory, '-')\n",
        "\n",
        "plt.xscale('log')\n",
        "plt.xlabel(\"Frequency\")\n",
        "plt.ylabel(\"Gain\")\n",
        "plt.title(\"Gain vs. Frequency Plot\")\n",
        "\n",
        "plt.show()"
      ],
      "execution_count": null,
      "outputs": [
        {
          "output_type": "display_data",
          "data": {
            "image/png": "[encoded data removed]",
            "text/plain": [
              "<Figure size 432x288 with 1 Axes>"
            ]
          },
          "metadata": {
            "tags": []
          }
        }
      ]
    },
    {
      "cell_type": "markdown",
      "metadata": {
        "id": "pnb7WG9vRCFi"
      },
      "source": [
        "# **3-3**"
      ]
    },
    {
      "cell_type": "markdown",
      "metadata": {
        "id": "vj9fcWdKYg6I"
      },
      "source": [
        "**Measurements:**\n",
        "\n",
        "$Inductor: 7.098 mH$\n",
        "\n",
        "$Resistor: 99.36 \\Omega$\n",
        "\n",
        "$Capacitor: 22.22 nF$"
      ]
    },
    {
      "cell_type": "markdown",
      "metadata": {
        "id": "GwhJvNxIRCK3"
      },
      "source": [
        "**A.** Circuit constructed.\n",
        "\n",
        "**Question**\n",
        "\n",
        "**B.** \n",
        "\n",
        "Frequency = 1.005 kHz\n",
        "\n",
        "*   V(out) = 30mV\n",
        "*   V(in) = 2.04V\n",
        "*   V(out)/V(in) = 0.01471\n",
        "*   Δt = 740$\\mu$s\n",
        "\n",
        "**C.**\n",
        "\n",
        "Frequency = 10.05Hz\n",
        "\n",
        "*   V(out) = 80mV\n",
        "*   V(in) = 2.00V\n",
        "*   V(out)/V(in) = 0.04\n",
        "*   Δt = 0s\n",
        "\n",
        "Frequency = 102.42Hz\n",
        "\n",
        "*   V(out) = 5.8mV\n",
        "*   V(in) = 2.04V\n",
        "*   V(out)/V(in) = 0.00284\n",
        "*   Δt = 7ms\n",
        "\n",
        "Frequency = 10.108kHz\n",
        "\n",
        "*   V(out) = 650mV\n",
        "*   V(in) = 2V\n",
        "*   V(out)/V(in) = 0.325\n",
        "*   Δt = 80$\\mu$s\n",
        "\n",
        "Frequency = 100.79kHz\n",
        "\n",
        "*   V(out) = 44mV\n",
        "*   V(in) = 2.12V\n",
        "*   V(out)/V(in) = 0.02075\n",
        "*   Δt = 2.4$\\mu$s\n",
        "\n",
        "Frequency = 1.002MHz\n",
        "\n",
        "*   V(out) = 44mV\n",
        "*   V(in) = 2.20V\n",
        "*   V(out)/V(in) = 0.02\n",
        "*   Δt = 780ns\n",
        "\n",
        "**D.** The gain and phase angle change the fastest in between 1 kHz and 100 kHz\n",
        "\n",
        "Frequency = 5.02kHz\n",
        "\n",
        "*   V(out) = 166mV\n",
        "*   V(in) = 2.12V\n",
        "*   V(out)/V(in) = 0.0783\n",
        "*   Δt = 152$\\mu$s\n",
        "\n",
        "Frequency = 15.015kHz\n",
        "\n",
        "*   V(out) = 900mV\n",
        "*   V(in) = 1.82V\n",
        "*   V(out)/V(in) = 0.4945\n",
        "*   Δt = 11$\\mu$s\n",
        "\n",
        "Frequency = 30.003kHz\n",
        "\n",
        "*   V(out) = 192mV\n",
        "*   V(in) = 2.12V\n",
        "*   V(out)/V(in) = 0.9057\n",
        "*   Δt = 7.6$\\mu$s\n",
        "\n",
        "Frequency = 51.809kHz\n",
        "\n",
        "*   V(out) = 96mV\n",
        "*   V(in) = 2.12V\n",
        "*   V(out)/V(in) = 0.0453\n",
        "*   Δt = 4.4$\\mu$s\n",
        "\n",
        "Frequency = 70.1kHz\n",
        "\n",
        "*   V(out) = 66.5mV\n",
        "*   V(in) = 2.12V\n",
        "*   V(out)/V(in) = 0.0314\n",
        "*   Δt = 3.6$\\mu$s\n",
        "\n",
        "Note: Resonance so that gain is closest to 1 is about 13 kHz\n",
        "\n",
        "**E.** Made Below. The gain and frequency have both been recorded to put into the plot. In order to find the theoretical curve, we use Gain = V(out)/V(in) and the impedences of the components.\n",
        "\n",
        "**F.** Made Below\n",
        "\n",
        "**Question.** The measurements agree with the theoretical curve very well. There is just one outlier, and I theorize this happened because it's located around the area where  the graph has a sharp peak, and this is often where weird stuff happens mathematically."
      ]
    },
    {
      "cell_type": "code",
      "metadata": {
        "id": "GNpTRK3zskDo",
        "colab": {
          "base_uri": "https://localhost:8080/",
          "height": 299
        },
        "outputId": "197488f4-f54a-41db-c6a9-fbcc744595f8"
      },
      "source": [
        "import numpy as np\n",
        "from matplotlib import pyplot as plt\n",
        "\n",
        "R = 100\n",
        "L = 6.8/1000\n",
        "C = 22/1000000000\n",
        "\n",
        "x = np.array([70100,51809,30003,15015,5020,1002000,100790,10108,102.42,10.05,1005])\n",
        "y = np.array([0.0314,0.0453,0.9057,0.4945,0.0783,0.02,0.02075,0.325,0.00284,0.04,0.01471])\n",
        "xsorted = np.sort(x)\n",
        "ZR = R\n",
        "ZL = 2*np.pi*1.0j*L*xsorted\n",
        "ZC = 1/(1.0j*xsorted*C*2*np.pi)\n",
        "Gain_theory = np.abs((ZR)/(ZR+ZL+ZC))\n",
        "\n",
        "plt.plot(x, y,marker=\"o\",linestyle = \"none\")\n",
        "plt.plot(xsorted, Gain_theory, '-')\n",
        "\n",
        "plt.xscale('log')\n",
        "plt.xlabel(\"Frequency\")\n",
        "plt.ylabel(\"Gain\")\n",
        "plt.title(\"Gain vs. Frequency Plot\")\n",
        "\n",
        "plt.show()"
      ],
      "execution_count": null,
      "outputs": [
        {
          "output_type": "display_data",
          "data": {
            "image/png": "[encoded data removed]",
            "text/plain": [
              "<Figure size 432x288 with 1 Axes>"
            ]
          },
          "metadata": {
            "tags": []
          }
        }
      ]
    },
    {
      "cell_type": "markdown",
      "metadata": {
        "id": "q5RmXM7ARCO7"
      },
      "source": [
        "# **3-4**"
      ]
    },
    {
      "cell_type": "markdown",
      "metadata": {
        "id": "TOvFQP1sfhP-"
      },
      "source": [
        "**Measurements:**\n",
        "\n",
        "$Inductor: 7.098 mH$\n",
        "\n",
        "$Resistor: 1000.5 \\Omega$ **wow that's accurate**\n",
        "\n",
        "$Capacitor: 22.22 nF$"
      ]
    },
    {
      "cell_type": "markdown",
      "metadata": {
        "id": "LFCDHZJmfhVE"
      },
      "source": [
        "**A.** Circuit constructed.\n",
        "\n",
        "**Question**\n",
        "\n",
        "**B.** Noted\n",
        "\n",
        "**C.**\n",
        "\n",
        "Frequency = 1.075kHz\n",
        "\n",
        "*   V(out) = 2.00V\n",
        "*   V(in) = 2.04V\n",
        "*   V(out)/V(in) = 0.9804\n",
        "*   Δt = 0s\n",
        "\n",
        "**D.**\n",
        "\n",
        "Frequency = 10.008Hz **wow that's accurate**\n",
        "\n",
        "*   V(out) = 2.04V\n",
        "*   V(in) = 2.04V\n",
        "*   V(out)/V(in) = 1\n",
        "*   Δt = 0s\n",
        "\n",
        "Frequency = 100.03Hz\n",
        "\n",
        "*   V(out) = 2.04V\n",
        "*   V(in) = 2.04V\n",
        "*   V(out)/V(in) = 1\n",
        "*   Δt = 0s\n",
        "\n",
        "frequency = 10.116kHz\n",
        "\n",
        "*   V(out) = 640mV\n",
        "*   V(in) = 2.04V\n",
        "*   V(out)/V(in) = 0.3137\n",
        "*   Δt = 19$\\mu$s\n",
        "\n",
        "Frequency = 100.55kHz\n",
        "\n",
        "*   V(out) = 2.08mV\n",
        "*   V(in) = 2.12V\n",
        "*   V(out)/V(in) = 0.9811\n",
        "*   Δt = 200ns\n",
        "\n",
        "Frequency = 1.0045MHz\n",
        "\n",
        "*   V(out) = 1.68V\n",
        "*   V(in) = 2.16V\n",
        "*   V(out)/V(in) = 0.77777\n",
        "*   Δt = 120ns\n",
        "\n",
        "**E.** The gain and phase angle change the fastest in between 100 Hz and 100 kHz\n",
        "\n",
        "Frequency = 504.32Hz\n",
        "\n",
        "*   V(out) = 2.04V\n",
        "*   V(in) = 2.04V\n",
        "*   V(out)/V(in) = 1\n",
        "*   Δt = 0s\n",
        "\n",
        "Frequency = 5.024kHz\n",
        "\n",
        "*   V(out) = 1.64V\n",
        "*   V(in) = 2.08V\n",
        "*   V(out)/V(in) = 0.7885\n",
        "*   Δt = 20$\\mu$s\n",
        "\n",
        "Frequency = 27.05kHz\n",
        "\n",
        "*   V(out) = 1.48V\n",
        "*   V(in) = 2.04V\n",
        "*   V(out)/V(in) = 0.7255\n",
        "*   Δt = 32$\\mu$s\n",
        "\n",
        "Frequency = 51.899kHz\n",
        "\n",
        "*   V(out) = 1.92V\n",
        "*   V(in) = 2.12V\n",
        "*   V(out)/V(in) = 0.9057\n",
        "*   Δt = 17.6$\\mu$s\n",
        "\n",
        "Frequency = 70.021kHz\n",
        "\n",
        "*   V(out) = 2.04V\n",
        "*   V(in) = 2.08V\n",
        "*   V(out)/V(in) = 0.9808\n",
        "*   Δt = 13.6$\\mu$s\n",
        "\n",
        "**F.** Made Below. The gain and frequency have both been recorded to put into the plot. In order to find the theoretical curve, we use Gain = V(out)/V(in) and the impedences of the components.\n",
        "\n",
        "**G.** Made Below\n",
        "\n",
        "**Question:** The measurements overlay well with the theoretical curve except for the million hertz frequency. I suspect this is because the theory might stop working as well at super high frequencies."
      ]
    },
    {
      "cell_type": "code",
      "metadata": {
        "id": "WYmbVwspJl7z",
        "colab": {
          "base_uri": "https://localhost:8080/",
          "height": 299
        },
        "outputId": "4a2d4796-986f-4eb2-a6c1-740bab6818ec"
      },
      "source": [
        "import numpy as np\n",
        "from matplotlib import pyplot as plt\n",
        "\n",
        "R = 1000\n",
        "L = 6.8/1000\n",
        "C = 22/1000000000\n",
        "\n",
        "x = np.array([70021,51899,27050,5024,504.32,1004500,100550,10116,100.03,10.008,1.075])\n",
        "y = np.array([0.9808,0.9057,0.7255,0.7885,1,0.7777,0.9811,0.3137,1,1,0.9804])\n",
        "xsorted = np.sort(x)\n",
        "ZR = R\n",
        "ZL = 2*np.pi*1.0j*L*xsorted\n",
        "ZC = 1/(1.0j*xsorted*C*2*np.pi)\n",
        "Gain_theory = np.abs((ZL+ZC)/(ZR+ZL+ZC))\n",
        "\n",
        "plt.plot(x, y,marker=\"o\",linestyle = \"none\")\n",
        "plt.plot(xsorted, Gain_theory, '-')\n",
        "\n",
        "plt.xscale('log')\n",
        "plt.xlabel(\"Frequency\")\n",
        "plt.ylabel(\"Gain\")\n",
        "plt.title(\"Gain vs. Frequency Plot\")\n",
        "\n",
        "plt.show()"
      ],
      "execution_count": null,
      "outputs": [
        {
          "output_type": "display_data",
          "data": {
            "image/png": "[encoded data removed]",
            "text/plain": [
              "<Figure size 432x288 with 1 Axes>"
            ]
          },
          "metadata": {
            "tags": []
          }
        }
      ]
    },
    {
      "cell_type": "markdown",
      "metadata": {
        "id": "pCfdps-QfhZN"
      },
      "source": [
        "# **3-5**"
      ]
    },
    {
      "cell_type": "markdown",
      "metadata": {
        "id": "2bB_DF8RfhdM"
      },
      "source": [
        "**Channel 1 AC Mode vs. Channel 2 DC Mode:**\n",
        "\n",
        "Both have square waves with the same voltage and time values, but the AC mode has more fluctuation."
      ]
    },
    {
      "cell_type": "markdown",
      "metadata": {
        "id": "c-lCd8n5Y_6A"
      },
      "source": [
        "# **General Procedure**"
      ]
    },
    {
      "cell_type": "markdown",
      "metadata": {
        "id": "McMsuSthZNFC"
      },
      "source": [
        "  In all parts of this lab, we constructed the circuit, then used the function generator to make a function and the oscilloscope to measure its waves. Depending on the device/s used, the oscilloscope would display the circuits' different reactions to the different frequencies."
      ]
    }
  ]
}